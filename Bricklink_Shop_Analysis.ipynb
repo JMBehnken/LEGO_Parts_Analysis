{
 "cells": [
  {
   "cell_type": "markdown",
   "metadata": {},
   "source": [
    "# Compute the value of LEGO Bricks a store has in stock "
   ]
  },
  {
   "cell_type": "code",
   "execution_count": 1,
   "metadata": {
    "collapsed": true
   },
   "outputs": [],
   "source": [
    "from selenium import webdriver\n",
    "from bs4 import BeautifulSoup\n",
    "from tqdm import tqdm\n",
    "import pandas as pd\n",
    "import re\n",
    "\n",
    "qua = re.compile('Quantity: (\\d+\\,?\\d*)')\n",
    "pri = re.compile('Price: EUR (\\d+\\.\\d+)')\n",
    "\n",
    "url_1 = 'https://store.bricklink.com/HeldderSteine?p=HeldderSteine#/shop?o={%22sort%22:6,%22desc%22:1,%22pgSize%22:100,%22pg%22:3,%22pg%22:'\n",
    "url_2 = ',%22itemType%22:%22P%22,%22showHomeItems%22:0}'"
   ]
  },
  {
   "cell_type": "code",
   "execution_count": 2,
   "metadata": {},
   "outputs": [
    {
     "name": "stderr",
     "output_type": "stream",
     "text": [
      "100%|██████████| 24/24 [00:38<00:00,  1.17it/s]\n"
     ]
    }
   ],
   "source": [
    "driver = webdriver.Firefox()\n",
    "\n",
    "data = []\n",
    "for i in tqdm(range(1, 25)):\n",
    "    driver.get(url_1+ str(i) +url_2)\n",
    "    bs = BeautifulSoup(driver.page_source, 'lxml')\n",
    "    \n",
    "    for elem in bs.findAll('article'):\n",
    "        part = elem.find('ul', {'class', 'bl-breadcrumb'}).findAll('a')[-1].get_text()\n",
    "        text = elem.find('div', {'class':'buy'}).get_text()\n",
    "        quantity = re.search(qua, text)[1]\n",
    "        price = re.search(pri, text)[1]\n",
    "        data.append([part, quantity, price])\n",
    "\n",
    "driver.close()"
   ]
  },
  {
   "cell_type": "code",
   "execution_count": 3,
   "metadata": {},
   "outputs": [
    {
     "data": {
      "text/html": [
       "<div>\n",
       "<style>\n",
       "    .dataframe thead tr:only-child th {\n",
       "        text-align: right;\n",
       "    }\n",
       "\n",
       "    .dataframe thead th {\n",
       "        text-align: left;\n",
       "    }\n",
       "\n",
       "    .dataframe tbody tr th {\n",
       "        vertical-align: top;\n",
       "    }\n",
       "</style>\n",
       "<table border=\"1\" class=\"dataframe\">\n",
       "  <thead>\n",
       "    <tr style=\"text-align: right;\">\n",
       "      <th></th>\n",
       "      <th>Part</th>\n",
       "      <th>Quantity</th>\n",
       "      <th>Price</th>\n",
       "    </tr>\n",
       "  </thead>\n",
       "  <tbody>\n",
       "    <tr>\n",
       "      <th>0</th>\n",
       "      <td>42056stk01</td>\n",
       "      <td>1</td>\n",
       "      <td>15.0</td>\n",
       "    </tr>\n",
       "    <tr>\n",
       "      <th>1</th>\n",
       "      <td>42030stk01</td>\n",
       "      <td>6</td>\n",
       "      <td>10.0</td>\n",
       "    </tr>\n",
       "  </tbody>\n",
       "</table>\n",
       "</div>"
      ],
      "text/plain": [
       "         Part  Quantity  Price\n",
       "0  42056stk01         1   15.0\n",
       "1  42030stk01         6   10.0"
      ]
     },
     "execution_count": 3,
     "metadata": {},
     "output_type": "execute_result"
    }
   ],
   "source": [
    "df = pd.DataFrame(data, columns=['Part', 'Quantity', 'Price'])\n",
    "df['Quantity'] = df['Quantity'].apply(lambda x: x.replace(',', '')).astype(int)\n",
    "df['Price'] = df['Price'].astype(float)\n",
    "df.head(2)"
   ]
  },
  {
   "cell_type": "code",
   "execution_count": 4,
   "metadata": {},
   "outputs": [
    {
     "name": "stdout",
     "output_type": "stream",
     "text": [
      "Lagerbestand:\t20553.50€\n"
     ]
    }
   ],
   "source": [
    "print('Lagerbestand:\\t{:.2f}€'.format((df['Quantity']*df['Price']).sum()))"
   ]
  },
  {
   "cell_type": "code",
   "execution_count": null,
   "metadata": {
    "collapsed": true
   },
   "outputs": [],
   "source": []
  }
 ],
 "metadata": {
  "kernelspec": {
   "display_name": "Python 3",
   "language": "python",
   "name": "python3"
  },
  "language_info": {
   "codemirror_mode": {
    "name": "ipython",
    "version": 3
   },
   "file_extension": ".py",
   "mimetype": "text/x-python",
   "name": "python",
   "nbconvert_exporter": "python",
   "pygments_lexer": "ipython3",
   "version": "3.6.1"
  }
 },
 "nbformat": 4,
 "nbformat_minor": 2
}
