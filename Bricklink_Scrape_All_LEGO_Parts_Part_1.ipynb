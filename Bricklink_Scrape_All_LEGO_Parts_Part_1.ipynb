{
 "cells": [
  {
   "cell_type": "code",
   "execution_count": null,
   "metadata": {
    "collapsed": true
   },
   "outputs": [],
   "source": [
    "import re\n",
    "import os\n",
    "import csv\n",
    "import requests\n",
    "import pandas as pd\n",
    "from tqdm import tqdm\n",
    "from bs4 import BeautifulSoup\n",
    "\n",
    "file_categories = 'Categories.csv'\n",
    "file_parts = 'Parts.csv'\n",
    "file_colors = 'Colors.csv'"
   ]
  },
  {
   "cell_type": "code",
   "execution_count": null,
   "metadata": {
    "collapsed": true
   },
   "outputs": [],
   "source": [
    "force = False\n",
    "if force:\n",
    "    for file in [file_categories, file_parts, file_colors]:\n",
    "        try:\n",
    "            os.remove(file)\n",
    "        except:\n",
    "            pass"
   ]
  },
  {
   "cell_type": "code",
   "execution_count": null,
   "metadata": {
    "collapsed": true
   },
   "outputs": [],
   "source": [
    "headers = {'User-Agent': 'Mozilla/5.0 (Macintosh; Intel Mac OS X 10_10_1) AppleWebKit/537.36 (KHTML, like Gecko) Chrome/39.0.2171.95 Safari/537.36'}"
   ]
  },
  {
   "cell_type": "code",
   "execution_count": null,
   "metadata": {
    "collapsed": true
   },
   "outputs": [],
   "source": [
    "url = 'https://www.bricklink.com'\n",
    "bs = BeautifulSoup(requests.get(url+'/catalogTree.asp?itemType=P&itemBrand=1000', headers=headers).text, 'lxml')\n",
    "\n",
    "cat = re.compile('catString=(\\d+)')\n",
    "\n",
    "data = []\n",
    "for link in bs.find('table', {'class':'bg-color--white catalog-list__category-list--internal catalog-tree__category-list--internal'}).findAll('a'):\n",
    "    if 'href' in link.attrs:\n",
    "        category_name = link.get_text()\n",
    "        category_number = int(re.search(cat, link['href'])[1])\n",
    "        category_elements = int(link.next_element.findNext('span').get_text()[1:-1])\n",
    "        with open(file_categories, 'a') as f:\n",
    "            writer = csv.writer(f)\n",
    "            writer.writerow([category_number, category_name, category_elements])"
   ]
  },
  {
   "cell_type": "code",
   "execution_count": null,
   "metadata": {},
   "outputs": [],
   "source": [
    "url = 'https://www.bricklink.com/catalogList.asp?v=0&pg={}&catString={}&itemBrand=1000&catType=P&v=1&viewPrint=Y'\n",
    "num = re.compile('\\?P=(.+)')\n",
    "\n",
    "with open(file_categories, 'r') as f:\n",
    "    reader = csv.reader(f)\n",
    "    for category_number, category_name, category_elements in tqdm(reader):\n",
    "        pages = -(-int(category_elements)//50)\n",
    "        for page in range(1, pages+1):\n",
    "            bs = BeautifulSoup(requests.get(url.format(page, category_number), headers=headers).text, 'lxml')\n",
    "\n",
    "            for tr in bs.find('table', {'class':'bg-color--white catalog-list__body-main catalog-list__body-main--alternate-row'}).findAll('tr'):\n",
    "                try:\n",
    "                    number = re.search(num, tr.find('a')['href'])[1]\n",
    "                    name = tr.find('strong').get_text()\n",
    "                    with open(file_parts, 'a') as g:\n",
    "                        writer = csv.writer(g)\n",
    "                        writer.writerow([category_number, category_name, number, name])\n",
    "                except:\n",
    "                    pass"
   ]
  },
  {
   "cell_type": "code",
   "execution_count": null,
   "metadata": {},
   "outputs": [],
   "source": [
    "with open(file_parts, 'r') as f:\n",
    "    i = 0\n",
    "    for line in f:\n",
    "        i += 1\n",
    "i"
   ]
  },
  {
   "cell_type": "code",
   "execution_count": null,
   "metadata": {},
   "outputs": [],
   "source": [
    "df = pd.read_csv(file_parts, header=None)\n",
    "df.columns = ['Cat_Num', 'Cat_Name', 'Part_Num', 'Part_Name']\n",
    "df.head(1)"
   ]
  },
  {
   "cell_type": "code",
   "execution_count": null,
   "metadata": {},
   "outputs": [],
   "source": [
    "url = 'https://www.bricklink.com/v2/catalog/catalogitem.page?P={}#T=C'\n",
    "\n",
    "for cat_num, cat_name, part_num, part_name in tqdm(df.values):\n",
    "    bs = BeautifulSoup(requests.get(url.format(part_num), headers=headers).text, 'lxml')\n",
    "    td = bs.find('table', {'class':'pciColorInfoTable'}).findAll('td')\n",
    "    \n",
    "    sold_dict = {}\n",
    "    for span in td[2].findAll('span'):\n",
    "        try:\n",
    "            color = span.find('a')['href'].split('colorID=')[-1].split('&')[0]\n",
    "            sold = span.get_text().rsplit('(', 1)[-1].strip()[:-1]\n",
    "            sold_dict[color] =  sold\n",
    "        except:\n",
    "            pass\n",
    "\n",
    "    for span in td[3].findAll('span'):\n",
    "        try:\n",
    "            color = span.find('a')['href'].split('colorID=')[-1].split('&')[0]\n",
    "            name = span.find('a').get_text().strip()\n",
    "            sets = span.get_text().rsplit('(', 1)[-1].strip()[:-1]\n",
    "            sold = sold_dict[color] if color in sold_dict.keys() else 0\n",
    "\n",
    "            with open(file_colors, 'a') as f:\n",
    "                writer = csv.writer(f)\n",
    "                writer.writerow([cat_num, cat_name, part_num, part_name, color, name, sets, sold])\n",
    "        except:\n",
    "            pass"
   ]
  },
  {
   "cell_type": "code",
   "execution_count": null,
   "metadata": {
    "collapsed": true
   },
   "outputs": [],
   "source": []
  }
 ],
 "metadata": {
  "kernelspec": {
   "display_name": "Python 3",
   "language": "python",
   "name": "python3"
  },
  "language_info": {
   "codemirror_mode": {
    "name": "ipython",
    "version": 3
   },
   "file_extension": ".py",
   "mimetype": "text/x-python",
   "name": "python",
   "nbconvert_exporter": "python",
   "pygments_lexer": "ipython3",
   "version": "3.6.1"
  }
 },
 "nbformat": 4,
 "nbformat_minor": 2
}
