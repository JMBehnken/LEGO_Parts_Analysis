{
 "cells": [
  {
   "cell_type": "markdown",
   "metadata": {},
   "source": [
    "# DataBase with all LEGO-Sets with its parts ready for analysis\n",
    "The DataBase can be downloaded at [Rebrickable.com](https://rebrickable.com/downloads/)."
   ]
  },
  {
   "cell_type": "code",
   "execution_count": 1,
   "metadata": {
    "collapsed": true
   },
   "outputs": [],
   "source": [
    "import os\n",
    "import pandas as pd"
   ]
  },
  {
   "cell_type": "code",
   "execution_count": 2,
   "metadata": {},
   "outputs": [
    {
     "data": {
      "text/plain": [
       "['DataBase/sets.csv',\n",
       " 'DataBase/themes.csv',\n",
       " 'DataBase/inventories.csv',\n",
       " 'DataBase/parts.csv',\n",
       " 'DataBase/inventory_parts.csv',\n",
       " 'DataBase/colors.csv',\n",
       " 'DataBase/inventory_sets-1.csv',\n",
       " 'DataBase/part_relationships.csv',\n",
       " 'DataBase/part_categories.csv']"
      ]
     },
     "execution_count": 2,
     "metadata": {},
     "output_type": "execute_result"
    }
   ],
   "source": [
    "folder = 'DataBase'\n",
    "[os.path.join(folder, file) for file in os.listdir(folder)]"
   ]
  },
  {
   "cell_type": "code",
   "execution_count": 3,
   "metadata": {
    "collapsed": true
   },
   "outputs": [],
   "source": [
    "df_sets = pd.read_csv(folder+'/sets.csv').drop('Unnamed: 5', axis=1)\n",
    "df_sets.columns = ['Inventory_Set_Num_x', 'Set_Name', 'Set_Year', 'Theme_Id', 'Parts_Quantity']\n",
    "df_themes = pd.read_csv(folder+'/themes.csv')\n",
    "df_themes.columns = ['Theme_Id', 'Theme_Name', 'Parent_Theme_Id']\n",
    "df_inventories = pd.read_csv(folder+'/inventories.csv')\n",
    "df_inventories.columns = ['Inventory_Id', 'Version', 'Inventory_Set_Num']\n",
    "df_parts = pd.read_csv(folder+'/parts.csv').drop('Unnamed: 3', axis=1)\n",
    "df_parts.columns = ['Part_Num', 'Part_Name', 'Part_Category_Id']\n",
    "df_inventory_parts = pd.read_csv(folder+'/inventory_parts.csv')\n",
    "df_inventory_parts.columns = ['Inventory_Id', 'Part_Num', 'Color_Id', 'Quantity_Parts', 'Sparepart']\n",
    "df_colors = pd.read_csv(folder+'/colors.csv')\n",
    "df_colors.columns = ['Color_Id', 'Color_Name', 'Color_RGB', 'Transparent']\n",
    "df_inventory_sets = pd.read_csv(folder+'/inventory_sets-1.csv')\n",
    "df_inventory_sets.columns = ['Inventory_Id', 'Inventory_Set_Num', 'Inventory_Set_Quantity']\n",
    "df_part_relationships = pd.read_csv(folder+'/part_relationships.csv')\n",
    "df_part_categories = pd.read_csv(folder+'/part_categories.csv')\n",
    "df_part_categories.columns = ['Part_Category_Id', 'Part_Category_Name']\n",
    "\n",
    "df = df_inventory_parts.merge(df_colors, on='Color_Id', how='left')\n",
    "df = df.merge(df_parts, on='Part_Num', how='left')\n",
    "df = df.merge(df_part_categories, on='Part_Category_Id', how='left')\n",
    "df = df.merge(df_inventories, on='Inventory_Id', how='left')\n",
    "df = df.merge(df_inventory_sets, on='Inventory_Id', how='left')\n",
    "df = df.merge(df_sets, on='Inventory_Set_Num_x', how='left')\n",
    "df = df.merge(df_themes, on='Theme_Id', how='left')"
   ]
  },
  {
   "cell_type": "code",
   "execution_count": 4,
   "metadata": {},
   "outputs": [
    {
     "name": "stdout",
     "output_type": "stream",
     "text": [
      "<class 'pandas.core.frame.DataFrame'>\n",
      "Int64Index: 630018 entries, 0 to 630017\n",
      "Data columns (total 21 columns):\n",
      "Inventory_Id              630018 non-null int64\n",
      "Part_Num                  630018 non-null object\n",
      "Color_Id                  630018 non-null int64\n",
      "Quantity_Parts            630018 non-null int64\n",
      "Sparepart                 630018 non-null object\n",
      "Color_Name                630018 non-null object\n",
      "Color_RGB                 630018 non-null object\n",
      "Transparent               630018 non-null object\n",
      "Part_Name                 629863 non-null object\n",
      "Part_Category_Id          629863 non-null object\n",
      "Part_Category_Name        629863 non-null object\n",
      "Version                   630018 non-null int64\n",
      "Inventory_Set_Num_x       630018 non-null object\n",
      "Inventory_Set_Num_y       514 non-null object\n",
      "Inventory_Set_Quantity    514 non-null float64\n",
      "Set_Name                  630018 non-null object\n",
      "Set_Year                  630018 non-null int64\n",
      "Theme_Id                  630018 non-null int64\n",
      "Parts_Quantity            630018 non-null int64\n",
      "Theme_Name                630018 non-null object\n",
      "Parent_Theme_Id           398410 non-null float64\n",
      "dtypes: float64(2), int64(7), object(12)\n",
      "memory usage: 105.7+ MB\n"
     ]
    }
   ],
   "source": [
    "df.info()"
   ]
  },
  {
   "cell_type": "code",
   "execution_count": 5,
   "metadata": {},
   "outputs": [
    {
     "data": {
      "text/html": [
       "<div>\n",
       "<style>\n",
       "    .dataframe thead tr:only-child th {\n",
       "        text-align: right;\n",
       "    }\n",
       "\n",
       "    .dataframe thead th {\n",
       "        text-align: left;\n",
       "    }\n",
       "\n",
       "    .dataframe tbody tr th {\n",
       "        vertical-align: top;\n",
       "    }\n",
       "</style>\n",
       "<table border=\"1\" class=\"dataframe\">\n",
       "  <thead>\n",
       "    <tr style=\"text-align: right;\">\n",
       "      <th></th>\n",
       "      <th>Quantity_Parts</th>\n",
       "    </tr>\n",
       "    <tr>\n",
       "      <th>Inventory_Set_Num_x</th>\n",
       "      <th></th>\n",
       "    </tr>\n",
       "  </thead>\n",
       "  <tbody>\n",
       "    <tr>\n",
       "      <th>75192-1</th>\n",
       "      <td>7539</td>\n",
       "    </tr>\n",
       "    <tr>\n",
       "      <th>10181-1</th>\n",
       "      <td>6886</td>\n",
       "    </tr>\n",
       "    <tr>\n",
       "      <th>10189-1</th>\n",
       "      <td>5962</td>\n",
       "    </tr>\n",
       "    <tr>\n",
       "      <th>10256-1</th>\n",
       "      <td>5923</td>\n",
       "    </tr>\n",
       "    <tr>\n",
       "      <th>SWMP-1</th>\n",
       "      <td>5462</td>\n",
       "    </tr>\n",
       "    <tr>\n",
       "      <th>10179-1</th>\n",
       "      <td>5217</td>\n",
       "    </tr>\n",
       "    <tr>\n",
       "      <th>2000409-1</th>\n",
       "      <td>5200</td>\n",
       "    </tr>\n",
       "    <tr>\n",
       "      <th>70620-1</th>\n",
       "      <td>4972</td>\n",
       "    </tr>\n",
       "    <tr>\n",
       "      <th>75827-1</th>\n",
       "      <td>4788</td>\n",
       "    </tr>\n",
       "    <tr>\n",
       "      <th>40179-1</th>\n",
       "      <td>4502</td>\n",
       "    </tr>\n",
       "  </tbody>\n",
       "</table>\n",
       "</div>"
      ],
      "text/plain": [
       "                     Quantity_Parts\n",
       "Inventory_Set_Num_x                \n",
       "75192-1                        7539\n",
       "10181-1                        6886\n",
       "10189-1                        5962\n",
       "10256-1                        5923\n",
       "SWMP-1                         5462\n",
       "10179-1                        5217\n",
       "2000409-1                      5200\n",
       "70620-1                        4972\n",
       "75827-1                        4788\n",
       "40179-1                        4502"
      ]
     },
     "execution_count": 5,
     "metadata": {},
     "output_type": "execute_result"
    }
   ],
   "source": [
    "df.groupby('Inventory_Set_Num_x').agg({'Quantity_Parts':sum}).sort_values('Quantity_Parts', ascending=False).head(10)"
   ]
  },
  {
   "cell_type": "code",
   "execution_count": null,
   "metadata": {
    "collapsed": true
   },
   "outputs": [],
   "source": []
  }
 ],
 "metadata": {
  "kernelspec": {
   "display_name": "Python 3",
   "language": "python",
   "name": "python3"
  },
  "language_info": {
   "codemirror_mode": {
    "name": "ipython",
    "version": 3
   },
   "file_extension": ".py",
   "mimetype": "text/x-python",
   "name": "python",
   "nbconvert_exporter": "python",
   "pygments_lexer": "ipython3",
   "version": "3.6.1"
  }
 },
 "nbformat": 4,
 "nbformat_minor": 2
}
