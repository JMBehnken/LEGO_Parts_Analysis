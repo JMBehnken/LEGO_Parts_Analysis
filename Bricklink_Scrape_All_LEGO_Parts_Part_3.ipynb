{
 "cells": [
  {
   "cell_type": "code",
   "execution_count": null,
   "metadata": {
    "collapsed": true
   },
   "outputs": [],
   "source": [
    "import re\n",
    "import os\n",
    "import csv\n",
    "import requests\n",
    "import pandas as pd\n",
    "from tqdm import tqdm\n",
    "from bs4 import BeautifulSoup\n",
    "\n",
    "file_categories = 'Categories_3.csv'\n",
    "file_parts = 'Parts_3.csv'\n",
    "file_colors = 'Colors_3.csv'"
   ]
  },
  {
   "cell_type": "code",
   "execution_count": null,
   "metadata": {
    "collapsed": true
   },
   "outputs": [],
   "source": [
    "force = False\n",
    "if force:\n",
    "    for file in [file_categories, file_parts, file_colors]:\n",
    "        try:\n",
    "            os.remove(file)\n",
    "        except:\n",
    "            pass"
   ]
  },
  {
   "cell_type": "code",
   "execution_count": null,
   "metadata": {
    "collapsed": true
   },
   "outputs": [],
   "source": [
    "headers = {'User-Agent': 'Mozilla/5.0 (Macintosh; Intel Mac OS X 10_10_1) AppleWebKit/537.36 (KHTML, like Gecko) Chrome/39.0.2171.95 Safari/537.36'}"
   ]
  },
  {
   "cell_type": "markdown",
   "metadata": {},
   "source": [
    "# Categories"
   ]
  },
  {
   "cell_type": "code",
   "execution_count": null,
   "metadata": {
    "scrolled": true
   },
   "outputs": [],
   "source": [
    "if file_categories in os.listdir():\n",
    "    df_cat = pd.read_csv(file_categories, index_col='Cat_Num')    \n",
    "else:\n",
    "    df_cat = pd.DataFrame(columns=['Cat_Num', 'Cat_Name', 'Parts']).set_index('Cat_Num')\n",
    "print(df_cat.shape)\n",
    "df_cat.tail(1)"
   ]
  },
  {
   "cell_type": "code",
   "execution_count": null,
   "metadata": {},
   "outputs": [],
   "source": [
    "url = 'https://www.bricklink.com'\n",
    "bs = BeautifulSoup(requests.get(url+'/catalogTree.asp?itemType=P&itemBrand=1000', headers=headers).text, 'lxml')\n",
    "\n",
    "cat = re.compile('catString=(\\d+)')\n",
    "\n",
    "new = []\n",
    "for link in bs.find('table', {'class':'bg-color--white catalog-list__category-list--internal catalog-tree__category-list--internal'}).findAll('a'):\n",
    "    if 'href' in link.attrs:\n",
    "        category_name = link.get_text()\n",
    "        category_number = int(re.search(cat, link['href'])[1])\n",
    "        category_elements = int(link.next_element.findNext('span').get_text()[1:-1])\n",
    "        \n",
    "        if category_number not in df_cat.index or df_cat.loc[category_number]['Parts']!=category_elements:\n",
    "            df_cat.loc[category_number] = [category_name, category_elements]\n",
    "            new.append(category_number)\n",
    "\n",
    "df_cat.to_csv(file_categories)"
   ]
  },
  {
   "cell_type": "markdown",
   "metadata": {},
   "source": [
    "# Parts"
   ]
  },
  {
   "cell_type": "code",
   "execution_count": null,
   "metadata": {},
   "outputs": [],
   "source": [
    "if file_parts in os.listdir():\n",
    "    df_par = pd.read_csv(file_parts, index_col='Part_Num')    \n",
    "else:\n",
    "    df_par = pd.DataFrame(columns=['Cat_Num', 'Cat_Name', 'Part_Num', 'Part_Name']).set_index('Part_Num')\n",
    "print(df_par.shape)\n",
    "df_par.tail(1)"
   ]
  },
  {
   "cell_type": "code",
   "execution_count": null,
   "metadata": {
    "scrolled": false
   },
   "outputs": [],
   "source": [
    "url = 'https://www.bricklink.com/catalogList.asp?v=0&pg={}&catString={}&itemBrand=1000&catType=P&v=1&viewPrint=Y'\n",
    "num = re.compile('\\?P=(.+)')\n",
    "parts = re.compile('\\\\n(\\d+) Items')\n",
    "\n",
    "for category_number, category_name, category_elements in tqdm(df_cat.reset_index().values):\n",
    "    do = True if category_number in new else False\n",
    "    if not do and not (category_number in df_par['Cat_Num'].values and df_par[df_par['Cat_Num']==category_number].shape[0]>=category_elements):\n",
    "        do = True\n",
    "\n",
    "    if do:\n",
    "        pages = -(-int(category_elements)//50)\n",
    "        for page in range(1, pages+1):\n",
    "            bs = BeautifulSoup(requests.get(url.format(page, category_number), headers=headers).text, 'lxml')\n",
    "\n",
    "            for tr in bs.find('table', {'class':'bg-color--white catalog-list__body-main catalog-list__body-main--alternate-row'}).findAll('tr'):\n",
    "                try:\n",
    "                    part_num = re.search(num, tr.find('a')['href'])[1]\n",
    "                    part_name = tr.find('strong').get_text()\n",
    "                    df_par.loc[part_num] = [category_number, category_name, part_name]\n",
    "                except:\n",
    "                    pass\n",
    "df_par.to_csv(file_parts)"
   ]
  },
  {
   "cell_type": "markdown",
   "metadata": {},
   "source": [
    "# Color"
   ]
  },
  {
   "cell_type": "code",
   "execution_count": null,
   "metadata": {},
   "outputs": [],
   "source": [
    "if file_colors in os.listdir():\n",
    "    df_col = pd.read_csv(file_colors, index_col=['Part_Num', 'Col_Num'])    \n",
    "else:\n",
    "    df_col = pd.DataFrame(columns=['Cat_Num', 'Cat_Name', 'Part_Num', 'Part_Name', 'Col_Num', 'Col_Name', 'Num_Sets', 'Num_Sold']).set_index(['Part_Num', 'Col_Num'])\n",
    "print(df_col.shape)\n",
    "df_col.tail(1)"
   ]
  },
  {
   "cell_type": "code",
   "execution_count": null,
   "metadata": {
    "scrolled": true
   },
   "outputs": [],
   "source": [
    "def scrape(part_num, cat_num, cat_name, part_name):\n",
    "    bs = BeautifulSoup(requests.get(url.format(part_num), headers=headers).text, 'lxml')\n",
    "    td = bs.find('table', {'class':'pciColorInfoTable'}).findAll('td')\n",
    "    \n",
    "    col_dict = {}\n",
    "    for span in td[2].findAll('span'):\n",
    "        try:\n",
    "            col_num = span.find('a')['href'].split('colorID=')[-1].split('&')[0]\n",
    "            sold = span.get_text().rsplit('(', 1)[-1].strip()[:-1]\n",
    "            col_dict[col_num] =  {'sold':sold, 'col_name':None, 'sets':0}\n",
    "        except:\n",
    "            pass\n",
    "\n",
    "    for span in td[3].findAll('span'):\n",
    "        try:\n",
    "            col_num = span.find('a')['href'].split('colorID=')[-1].split('&')[0]\n",
    "            col_name = span.find('a').get_text().strip()\n",
    "            sets = span.get_text().rsplit('(', 1)[-1].strip()[:-1]\n",
    "            \n",
    "            if col_num in col_dict.keys():\n",
    "                col_dict[col_num]['col_name'] = col_name\n",
    "                col_dict[col_num]['sets'] = sets\n",
    "            else:\n",
    "                col_dict[col_num] = {'sold':0, 'col_name':col_name, 'sets':sets}\n",
    "        except:\n",
    "            pass\n",
    "    try:\n",
    "        for item in col_dict.items():\n",
    "            df_col.loc[(part_num, item[0]), ['Cat_Num', 'Cat_Name', 'Part_Name', 'Col_Name', 'Num_Sets', 'Num_Sold']] = ([cat_num, cat_name, part_name, item[1]['col_name'], item[1]['sets'], item[1]['sold']])\n",
    "    except:\n",
    "        pass\n",
    "        \n",
    "\n",
    "url = 'https://www.bricklink.com/v2/catalog/catalogitem.page?P={}#T=C'\n",
    "\n",
    "for part_num in tqdm(set(df_par.index).difference(df_col.index.levels[0])):\n",
    "    cat_num, cat_name, part_name = df_par.loc[part_num].values\n",
    "    scrape(part_num, cat_num, cat_name, part_name)"
   ]
  },
  {
   "cell_type": "code",
   "execution_count": null,
   "metadata": {
    "collapsed": true
   },
   "outputs": [],
   "source": [
    "df_col.to_csv(file_colors)"
   ]
  },
  {
   "cell_type": "code",
   "execution_count": null,
   "metadata": {
    "collapsed": true
   },
   "outputs": [],
   "source": []
  },
  {
   "cell_type": "code",
   "execution_count": null,
   "metadata": {
    "collapsed": true
   },
   "outputs": [],
   "source": [
    "df = pd.read_csv(file_colors, header=None)\n",
    "df.columns = ['Cat_Num', 'Cat_Name', 'Part_Num', 'Part_Name', 'Col_Num', 'Col_Name', 'Num_Sets', 'Num_Sold']\n",
    "print(df.shape)\n",
    "df.head(10)"
   ]
  },
  {
   "cell_type": "code",
   "execution_count": null,
   "metadata": {
    "collapsed": true
   },
   "outputs": [],
   "source": []
  }
 ],
 "metadata": {
  "kernelspec": {
   "display_name": "Python 3",
   "language": "python",
   "name": "python3"
  },
  "language_info": {
   "codemirror_mode": {
    "name": "ipython",
    "version": 3
   },
   "file_extension": ".py",
   "mimetype": "text/x-python",
   "name": "python",
   "nbconvert_exporter": "python",
   "pygments_lexer": "ipython3",
   "version": "3.6.1"
  }
 },
 "nbformat": 4,
 "nbformat_minor": 2
}
