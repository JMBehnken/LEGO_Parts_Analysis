{
 "cells": [
  {
   "cell_type": "code",
   "execution_count": 1,
   "metadata": {
    "collapsed": true
   },
   "outputs": [],
   "source": [
    "import pandas as pd"
   ]
  },
  {
   "cell_type": "code",
   "execution_count": 2,
   "metadata": {
    "scrolled": false
   },
   "outputs": [
    {
     "data": {
      "text/plain": [
       "Cat_Name\n",
       "(Other)                          249\n",
       "Aircraft                         309\n",
       "Animal, Accessory                127\n",
       "Animal, Air                       94\n",
       "Animal, Body Part                702\n",
       "Animal, Dinosaur                  55\n",
       "Animal, Land                     438\n",
       "Animal, Water                     97\n",
       "Antenna                           77\n",
       "Arm                               77\n",
       "Bar                              355\n",
       "Baseplate                        172\n",
       "Baseplate, Raised                 78\n",
       "Baseplate, Road                  107\n",
       "Belville                         199\n",
       "Belville, Figure Accessory       109\n",
       "Bionicle                        1682\n",
       "Bionicle, Kanohi Mask            369\n",
       "Boat                             385\n",
       "Bracket                          178\n",
       "Brick                           1185\n",
       "Brick, Arch                      411\n",
       "Brick, Decorated                2161\n",
       "Brick, Modified                  982\n",
       "Brick, Modified, Decorated       306\n",
       "Brick, Promotional               226\n",
       "Brick, Round                     531\n",
       "Brick, Round, Decorated          246\n",
       "Classic                          164\n",
       "Clikits                          416\n",
       "                                ... \n",
       "Technic, Plate                     3\n",
       "Technic, Shock Absorber            2\n",
       "Technic, Steering                 14\n",
       "Throwing Disk                     13\n",
       "Tile                              46\n",
       "Tile, Decorated                  469\n",
       "Tile, Modified                    84\n",
       "Tile, Modified, Decorated         76\n",
       "Tile, Round, Decorated            82\n",
       "Tire & Tread                      13\n",
       "Town Plan                          2\n",
       "Track System                       2\n",
       "Train                             24\n",
       "Train, Track                      10\n",
       "Turntable                          4\n",
       "Vehicle                           40\n",
       "Vehicle, Base                      8\n",
       "Vehicle, Mudguard                 26\n",
       "Vehicle, Mudguard, Decorated      21\n",
       "Wedge                             79\n",
       "Wedge, Decorated                 130\n",
       "Wedge, Plate                      66\n",
       "Wheel                             52\n",
       "Wheel & Tire Assembly             82\n",
       "Window                            34\n",
       "Window, Decorated                  4\n",
       "Windscreen                        61\n",
       "Windscreen, Decorated             51\n",
       "Wing                               5\n",
       "Znap                               5\n",
       "Name: Cat_Num, Length: 204, dtype: int64"
      ]
     },
     "execution_count": 2,
     "metadata": {},
     "output_type": "execute_result"
    }
   ],
   "source": [
    "df = pd.read_csv('Colors_3.csv')\n",
    "df.groupby('Cat_Name').count()['Cat_Num']"
   ]
  },
  {
   "cell_type": "code",
   "execution_count": 3,
   "metadata": {},
   "outputs": [
    {
     "data": {
      "text/plain": [
       "(27115, 8)"
      ]
     },
     "execution_count": 3,
     "metadata": {},
     "output_type": "execute_result"
    }
   ],
   "source": [
    "df.shape"
   ]
  },
  {
   "cell_type": "code",
   "execution_count": 4,
   "metadata": {},
   "outputs": [
    {
     "data": {
      "text/html": [
       "<div>\n",
       "<style>\n",
       "    .dataframe thead tr:only-child th {\n",
       "        text-align: right;\n",
       "    }\n",
       "\n",
       "    .dataframe thead th {\n",
       "        text-align: left;\n",
       "    }\n",
       "\n",
       "    .dataframe tbody tr th {\n",
       "        vertical-align: top;\n",
       "    }\n",
       "</style>\n",
       "<table border=\"1\" class=\"dataframe\">\n",
       "  <thead>\n",
       "    <tr style=\"text-align: right;\">\n",
       "      <th></th>\n",
       "      <th>Part_Num</th>\n",
       "      <th>Col_Num</th>\n",
       "      <th>Cat_Num</th>\n",
       "      <th>Cat_Name</th>\n",
       "      <th>Part_Name</th>\n",
       "      <th>Col_Name</th>\n",
       "      <th>Num_Sets</th>\n",
       "      <th>Num_Sold</th>\n",
       "    </tr>\n",
       "  </thead>\n",
       "  <tbody>\n",
       "    <tr>\n",
       "      <th>27110</th>\n",
       "      <td>bb748</td>\n",
       "      <td>103</td>\n",
       "      <td>20.0</td>\n",
       "      <td>Minifig, Body Part</td>\n",
       "      <td>Arm, Short, Curved with Hand</td>\n",
       "      <td>Bright Light Yellow</td>\n",
       "      <td>4.0</td>\n",
       "      <td>0.0</td>\n",
       "    </tr>\n",
       "    <tr>\n",
       "      <th>27111</th>\n",
       "      <td>bb748</td>\n",
       "      <td>154</td>\n",
       "      <td>20.0</td>\n",
       "      <td>Minifig, Body Part</td>\n",
       "      <td>Arm, Short, Curved with Hand</td>\n",
       "      <td>Lavender</td>\n",
       "      <td>6.0</td>\n",
       "      <td>0.0</td>\n",
       "    </tr>\n",
       "    <tr>\n",
       "      <th>27112</th>\n",
       "      <td>bb748</td>\n",
       "      <td>152</td>\n",
       "      <td>20.0</td>\n",
       "      <td>Minifig, Body Part</td>\n",
       "      <td>Arm, Short, Curved with Hand</td>\n",
       "      <td>Light Aqua</td>\n",
       "      <td>2.0</td>\n",
       "      <td>0.0</td>\n",
       "    </tr>\n",
       "    <tr>\n",
       "      <th>27113</th>\n",
       "      <td>bb748</td>\n",
       "      <td>150</td>\n",
       "      <td>20.0</td>\n",
       "      <td>Minifig, Body Part</td>\n",
       "      <td>Arm, Short, Curved with Hand</td>\n",
       "      <td>Medium Dark Flesh</td>\n",
       "      <td>2.0</td>\n",
       "      <td>0.0</td>\n",
       "    </tr>\n",
       "    <tr>\n",
       "      <th>27114</th>\n",
       "      <td>bb748</td>\n",
       "      <td>157</td>\n",
       "      <td>20.0</td>\n",
       "      <td>Minifig, Body Part</td>\n",
       "      <td>Arm, Short, Curved with Hand</td>\n",
       "      <td>Medium Lavender</td>\n",
       "      <td>2.0</td>\n",
       "      <td>0.0</td>\n",
       "    </tr>\n",
       "  </tbody>\n",
       "</table>\n",
       "</div>"
      ],
      "text/plain": [
       "      Part_Num  Col_Num  Cat_Num            Cat_Name  \\\n",
       "27110    bb748      103     20.0  Minifig, Body Part   \n",
       "27111    bb748      154     20.0  Minifig, Body Part   \n",
       "27112    bb748      152     20.0  Minifig, Body Part   \n",
       "27113    bb748      150     20.0  Minifig, Body Part   \n",
       "27114    bb748      157     20.0  Minifig, Body Part   \n",
       "\n",
       "                          Part_Name             Col_Name  Num_Sets  Num_Sold  \n",
       "27110  Arm, Short, Curved with Hand  Bright Light Yellow       4.0       0.0  \n",
       "27111  Arm, Short, Curved with Hand             Lavender       6.0       0.0  \n",
       "27112  Arm, Short, Curved with Hand           Light Aqua       2.0       0.0  \n",
       "27113  Arm, Short, Curved with Hand    Medium Dark Flesh       2.0       0.0  \n",
       "27114  Arm, Short, Curved with Hand      Medium Lavender       2.0       0.0  "
      ]
     },
     "execution_count": 4,
     "metadata": {},
     "output_type": "execute_result"
    }
   ],
   "source": [
    "df.tail()"
   ]
  },
  {
   "cell_type": "code",
   "execution_count": 5,
   "metadata": {},
   "outputs": [
    {
     "data": {
      "text/html": [
       "<div>\n",
       "<style>\n",
       "    .dataframe thead tr:only-child th {\n",
       "        text-align: right;\n",
       "    }\n",
       "\n",
       "    .dataframe thead th {\n",
       "        text-align: left;\n",
       "    }\n",
       "\n",
       "    .dataframe tbody tr th {\n",
       "        vertical-align: top;\n",
       "    }\n",
       "</style>\n",
       "<table border=\"1\" class=\"dataframe\">\n",
       "  <thead>\n",
       "    <tr style=\"text-align: right;\">\n",
       "      <th></th>\n",
       "      <th>Num_Sold</th>\n",
       "    </tr>\n",
       "    <tr>\n",
       "      <th>Col_Name</th>\n",
       "      <th></th>\n",
       "    </tr>\n",
       "  </thead>\n",
       "  <tbody>\n",
       "    <tr>\n",
       "      <th>Black</th>\n",
       "      <td>488740.0</td>\n",
       "    </tr>\n",
       "    <tr>\n",
       "      <th>Light Bluish Gray</th>\n",
       "      <td>393396.0</td>\n",
       "    </tr>\n",
       "    <tr>\n",
       "      <th>White</th>\n",
       "      <td>343948.0</td>\n",
       "    </tr>\n",
       "    <tr>\n",
       "      <th>Dark Bluish Gray</th>\n",
       "      <td>292122.0</td>\n",
       "    </tr>\n",
       "    <tr>\n",
       "      <th>Red</th>\n",
       "      <td>180192.0</td>\n",
       "    </tr>\n",
       "    <tr>\n",
       "      <th>Tan</th>\n",
       "      <td>143434.0</td>\n",
       "    </tr>\n",
       "    <tr>\n",
       "      <th>Reddish Brown</th>\n",
       "      <td>132665.0</td>\n",
       "    </tr>\n",
       "    <tr>\n",
       "      <th>Yellow</th>\n",
       "      <td>124630.0</td>\n",
       "    </tr>\n",
       "    <tr>\n",
       "      <th>Blue</th>\n",
       "      <td>87814.0</td>\n",
       "    </tr>\n",
       "    <tr>\n",
       "      <th>Light Gray</th>\n",
       "      <td>77040.0</td>\n",
       "    </tr>\n",
       "  </tbody>\n",
       "</table>\n",
       "</div>"
      ],
      "text/plain": [
       "                   Num_Sold\n",
       "Col_Name                   \n",
       "Black              488740.0\n",
       "Light Bluish Gray  393396.0\n",
       "White              343948.0\n",
       "Dark Bluish Gray   292122.0\n",
       "Red                180192.0\n",
       "Tan                143434.0\n",
       "Reddish Brown      132665.0\n",
       "Yellow             124630.0\n",
       "Blue                87814.0\n",
       "Light Gray          77040.0"
      ]
     },
     "execution_count": 5,
     "metadata": {},
     "output_type": "execute_result"
    }
   ],
   "source": [
    "col = 'Num_Sold'\n",
    "df.groupby('Col_Name').agg({col:sum}).sort_values(col, ascending=False).head(10)"
   ]
  },
  {
   "cell_type": "code",
   "execution_count": 6,
   "metadata": {},
   "outputs": [
    {
     "data": {
      "text/html": [
       "<div>\n",
       "<style>\n",
       "    .dataframe thead tr:only-child th {\n",
       "        text-align: right;\n",
       "    }\n",
       "\n",
       "    .dataframe thead th {\n",
       "        text-align: left;\n",
       "    }\n",
       "\n",
       "    .dataframe tbody tr th {\n",
       "        vertical-align: top;\n",
       "    }\n",
       "</style>\n",
       "<table border=\"1\" class=\"dataframe\">\n",
       "  <thead>\n",
       "    <tr style=\"text-align: right;\">\n",
       "      <th></th>\n",
       "      <th>Num_Sets</th>\n",
       "    </tr>\n",
       "    <tr>\n",
       "      <th>Col_Name</th>\n",
       "      <th></th>\n",
       "    </tr>\n",
       "  </thead>\n",
       "  <tbody>\n",
       "    <tr>\n",
       "      <th>Black</th>\n",
       "      <td>35436.0</td>\n",
       "    </tr>\n",
       "    <tr>\n",
       "      <th>White</th>\n",
       "      <td>30015.0</td>\n",
       "    </tr>\n",
       "    <tr>\n",
       "      <th>Red</th>\n",
       "      <td>23213.0</td>\n",
       "    </tr>\n",
       "    <tr>\n",
       "      <th>Yellow</th>\n",
       "      <td>18892.0</td>\n",
       "    </tr>\n",
       "    <tr>\n",
       "      <th>Light Bluish Gray</th>\n",
       "      <td>16435.0</td>\n",
       "    </tr>\n",
       "    <tr>\n",
       "      <th>Dark Bluish Gray</th>\n",
       "      <td>13506.0</td>\n",
       "    </tr>\n",
       "    <tr>\n",
       "      <th>Blue</th>\n",
       "      <td>13147.0</td>\n",
       "    </tr>\n",
       "    <tr>\n",
       "      <th>Light Gray</th>\n",
       "      <td>7023.0</td>\n",
       "    </tr>\n",
       "    <tr>\n",
       "      <th>Green</th>\n",
       "      <td>6287.0</td>\n",
       "    </tr>\n",
       "    <tr>\n",
       "      <th>Tan</th>\n",
       "      <td>6228.0</td>\n",
       "    </tr>\n",
       "  </tbody>\n",
       "</table>\n",
       "</div>"
      ],
      "text/plain": [
       "                   Num_Sets\n",
       "Col_Name                   \n",
       "Black               35436.0\n",
       "White               30015.0\n",
       "Red                 23213.0\n",
       "Yellow              18892.0\n",
       "Light Bluish Gray   16435.0\n",
       "Dark Bluish Gray    13506.0\n",
       "Blue                13147.0\n",
       "Light Gray           7023.0\n",
       "Green                6287.0\n",
       "Tan                  6228.0"
      ]
     },
     "execution_count": 6,
     "metadata": {},
     "output_type": "execute_result"
    }
   ],
   "source": [
    "col = 'Num_Sets'\n",
    "df.groupby('Col_Name').agg({col:sum}).sort_values(col, ascending=False).head(10)"
   ]
  },
  {
   "cell_type": "code",
   "execution_count": 7,
   "metadata": {},
   "outputs": [
    {
     "data": {
      "text/html": [
       "<div>\n",
       "<style>\n",
       "    .dataframe thead tr:only-child th {\n",
       "        text-align: right;\n",
       "    }\n",
       "\n",
       "    .dataframe thead th {\n",
       "        text-align: left;\n",
       "    }\n",
       "\n",
       "    .dataframe tbody tr th {\n",
       "        vertical-align: top;\n",
       "    }\n",
       "</style>\n",
       "<table border=\"1\" class=\"dataframe\">\n",
       "  <thead>\n",
       "    <tr style=\"text-align: right;\">\n",
       "      <th></th>\n",
       "      <th>Num_Sold</th>\n",
       "    </tr>\n",
       "    <tr>\n",
       "      <th>Cat_Name</th>\n",
       "      <th></th>\n",
       "    </tr>\n",
       "  </thead>\n",
       "  <tbody>\n",
       "    <tr>\n",
       "      <th>Brick</th>\n",
       "      <td>710489.0</td>\n",
       "    </tr>\n",
       "    <tr>\n",
       "      <th>Brick, Modified</th>\n",
       "      <td>401528.0</td>\n",
       "    </tr>\n",
       "    <tr>\n",
       "      <th>Brick, Round</th>\n",
       "      <td>171423.0</td>\n",
       "    </tr>\n",
       "    <tr>\n",
       "      <th>Bar</th>\n",
       "      <td>151243.0</td>\n",
       "    </tr>\n",
       "    <tr>\n",
       "      <th>Bracket</th>\n",
       "      <td>105958.0</td>\n",
       "    </tr>\n",
       "    <tr>\n",
       "      <th>Brick, Arch</th>\n",
       "      <td>79622.0</td>\n",
       "    </tr>\n",
       "    <tr>\n",
       "      <th>Cone</th>\n",
       "      <td>77046.0</td>\n",
       "    </tr>\n",
       "    <tr>\n",
       "      <th>Dish</th>\n",
       "      <td>65834.0</td>\n",
       "    </tr>\n",
       "    <tr>\n",
       "      <th>Bionicle</th>\n",
       "      <td>64444.0</td>\n",
       "    </tr>\n",
       "    <tr>\n",
       "      <th>Tile</th>\n",
       "      <td>55165.0</td>\n",
       "    </tr>\n",
       "  </tbody>\n",
       "</table>\n",
       "</div>"
      ],
      "text/plain": [
       "                 Num_Sold\n",
       "Cat_Name                 \n",
       "Brick            710489.0\n",
       "Brick, Modified  401528.0\n",
       "Brick, Round     171423.0\n",
       "Bar              151243.0\n",
       "Bracket          105958.0\n",
       "Brick, Arch       79622.0\n",
       "Cone              77046.0\n",
       "Dish              65834.0\n",
       "Bionicle          64444.0\n",
       "Tile              55165.0"
      ]
     },
     "execution_count": 7,
     "metadata": {},
     "output_type": "execute_result"
    }
   ],
   "source": [
    "col = 'Num_Sold'\n",
    "df.groupby('Cat_Name').agg({col:sum}).sort_values(col, ascending=False).head(10)"
   ]
  },
  {
   "cell_type": "code",
   "execution_count": 8,
   "metadata": {},
   "outputs": [
    {
     "data": {
      "text/html": [
       "<div>\n",
       "<style>\n",
       "    .dataframe thead tr:only-child th {\n",
       "        text-align: right;\n",
       "    }\n",
       "\n",
       "    .dataframe thead th {\n",
       "        text-align: left;\n",
       "    }\n",
       "\n",
       "    .dataframe tbody tr th {\n",
       "        vertical-align: top;\n",
       "    }\n",
       "</style>\n",
       "<table border=\"1\" class=\"dataframe\">\n",
       "  <thead>\n",
       "    <tr style=\"text-align: right;\">\n",
       "      <th></th>\n",
       "      <th>Num_Sold</th>\n",
       "    </tr>\n",
       "    <tr>\n",
       "      <th>Cat_Name</th>\n",
       "      <th></th>\n",
       "    </tr>\n",
       "  </thead>\n",
       "  <tbody>\n",
       "    <tr>\n",
       "      <th>Lever</th>\n",
       "      <td>914.0</td>\n",
       "    </tr>\n",
       "    <tr>\n",
       "      <th>Plate, Round</th>\n",
       "      <td>192.0</td>\n",
       "    </tr>\n",
       "    <tr>\n",
       "      <th>Tile</th>\n",
       "      <td>150.5</td>\n",
       "    </tr>\n",
       "    <tr>\n",
       "      <th>Wedge, Plate</th>\n",
       "      <td>141.5</td>\n",
       "    </tr>\n",
       "    <tr>\n",
       "      <th>Plate</th>\n",
       "      <td>141.0</td>\n",
       "    </tr>\n",
       "    <tr>\n",
       "      <th>Minifig, Weapon</th>\n",
       "      <td>137.0</td>\n",
       "    </tr>\n",
       "    <tr>\n",
       "      <th>Plant</th>\n",
       "      <td>123.5</td>\n",
       "    </tr>\n",
       "    <tr>\n",
       "      <th>Slope, Inverted</th>\n",
       "      <td>107.0</td>\n",
       "    </tr>\n",
       "    <tr>\n",
       "      <th>Fence</th>\n",
       "      <td>105.5</td>\n",
       "    </tr>\n",
       "    <tr>\n",
       "      <th>Bracket</th>\n",
       "      <td>104.5</td>\n",
       "    </tr>\n",
       "  </tbody>\n",
       "</table>\n",
       "</div>"
      ],
      "text/plain": [
       "                 Num_Sold\n",
       "Cat_Name                 \n",
       "Lever               914.0\n",
       "Plate, Round        192.0\n",
       "Tile                150.5\n",
       "Wedge, Plate        141.5\n",
       "Plate               141.0\n",
       "Minifig, Weapon     137.0\n",
       "Plant               123.5\n",
       "Slope, Inverted     107.0\n",
       "Fence               105.5\n",
       "Bracket             104.5"
      ]
     },
     "execution_count": 8,
     "metadata": {},
     "output_type": "execute_result"
    }
   ],
   "source": [
    "col = 'Num_Sold'\n",
    "df.groupby('Cat_Name').agg({col:'median'}).sort_values(col, ascending=False).head(10)"
   ]
  },
  {
   "cell_type": "code",
   "execution_count": null,
   "metadata": {
    "collapsed": true
   },
   "outputs": [],
   "source": []
  },
  {
   "cell_type": "code",
   "execution_count": 9,
   "metadata": {
    "collapsed": true
   },
   "outputs": [],
   "source": [
    "import re\n",
    "import requests\n",
    "from bs4 import BeautifulSoup\n",
    "\n",
    "\n",
    "total = re.compile(':.(\\d+)')\n",
    "qty = re.compile('Total Qty:(\\d+)')\n",
    "min_price = re.compile('Min Price:EUR.(\\d+\\.*\\d+)')\n",
    "avg_price = re.compile('Avg Price:EUR.(\\d+\\.*\\d+)')\n",
    "qty_price = re.compile('Qty Avg Price:EUR.(\\d+\\.*\\d+)')\n",
    "max_price = re.compile('Max Price:EUR.(\\d+\\.*\\d+)')"
   ]
  },
  {
   "cell_type": "code",
   "execution_count": 10,
   "metadata": {
    "collapsed": true
   },
   "outputs": [],
   "source": [
    "headers = {'User-Agent': 'Mozilla/5.0 (Macintosh; Intel Mac OS X 10_10_1) AppleWebKit/537.36 (KHTML, like Gecko) Chrome/39.0.2171.95 Safari/537.36'}\n",
    "url = 'https://www.bricklink.com/catalogPG.asp?P=2335pb110&ColorID=5'"
   ]
  },
  {
   "cell_type": "code",
   "execution_count": 11,
   "metadata": {
    "collapsed": true
   },
   "outputs": [],
   "source": [
    "bs = BeautifulSoup(requests.get(url, headers=headers).text, 'lxml')"
   ]
  },
  {
   "cell_type": "code",
   "execution_count": 12,
   "metadata": {
    "collapsed": true
   },
   "outputs": [],
   "source": [
    "price_dict = {'Sale_New':{'t':0, 'q':0, 'mi_p':0, 'a_p':0, 'q_p':0, 'ma_p':0},\n",
    "              'Sale_Used':{'t':0, 'q':0, 'mi_p':0, 'a_p':0, 'q_p':0, 'ma_p':0},\n",
    "              'Store_New':{'t':0, 'q':0, 'mi_p':0, 'a_p':0, 'q_p':0, 'ma_p':0},\n",
    "              'Store_Used':{'t':0, 'q':0, 'mi_p':0, 'a_p':0, 'q_p':0, 'ma_p':0}}"
   ]
  },
  {
   "cell_type": "code",
   "execution_count": 13,
   "metadata": {
    "collapsed": true
   },
   "outputs": [],
   "source": [
    "texts = [elem.get_text().replace('-', '0') for elem in bs.find('tr', {'bgcolor':'#C0C0C0'}).findAll('td', {'valign':'TOP'})]"
   ]
  },
  {
   "cell_type": "code",
   "execution_count": 14,
   "metadata": {},
   "outputs": [
    {
     "data": {
      "text/plain": [
       "['(Unavailable)',\n",
       " 'Times Sold:\\xa08Total Qty:8Min Price:EUR\\xa00.40Avg Price:EUR\\xa00.70Qty Avg Price:EUR\\xa00.70Max Price:EUR\\xa01.16',\n",
       " 'Total Lots:\\xa02Total Qty:13Min Price:EUR\\xa00.45Avg Price:EUR\\xa03.38Qty Avg Price:EUR\\xa00.90Max Price:EUR\\xa06.31',\n",
       " 'Total Lots:\\xa034Total Qty:44Min Price:EUR\\xa00.33Avg Price:EUR\\xa00.81Qty Avg Price:EUR\\xa00.96Max Price:EUR\\xa04.09']"
      ]
     },
     "execution_count": 14,
     "metadata": {},
     "output_type": "execute_result"
    }
   ],
   "source": [
    "texts"
   ]
  },
  {
   "cell_type": "code",
   "execution_count": 15,
   "metadata": {
    "collapsed": true
   },
   "outputs": [],
   "source": [
    "tmp = [True if 'Sold' in text else False for text in texts]\n",
    "\n",
    "if len(tmp)==4:\n",
    "    order = ['Sale_New', 'Sale_Used', 'Store_New', 'Store_Used']\n",
    "elif tmp[0]==True and tmp[1]==True and len(tmp)==3:\n",
    "    order = ['Sale_New', 'Sale_Used', 'Store_Used']\n",
    "elif tmp[0]==True and tmp[1]==False and len(tmp)==3:\n",
    "    order = ['Sale_Used', 'Store_New', 'Store_Used']\n",
    "elif tmp[0]==False and tmp[1]==False and len(tmp)==2:\n",
    "    order = ['Store_New', 'Store_Used']\n",
    "elif tmp[0]==True and tmp[1]==True and len(tmp)==2:\n",
    "    order = ['Sale_New', 'Sale_Used']\n",
    "else:\n",
    "    order = []"
   ]
  },
  {
   "cell_type": "code",
   "execution_count": 16,
   "metadata": {
    "collapsed": true
   },
   "outputs": [],
   "source": [
    "for o, t in zip(order, texts):\n",
    "    try:\n",
    "        price_dict[o]['t'] = re.search(total, text)[1]\n",
    "        price_dict[o]['q'] = re.search(qty, text)[1]\n",
    "        price_dict[o]['mi_p'] = re.search(min_price, text)[1]\n",
    "        price_dict[o]['a_p'] = re.search(avg_price, text)[1]\n",
    "        price_dict[o]['q_p'] = re.search(qty_price, text)[1]\n",
    "        price_dict[o]['ma_p'] = re.search(max_price, text)[1]\n",
    "    except:\n",
    "        pass"
   ]
  },
  {
   "cell_type": "code",
   "execution_count": 17,
   "metadata": {
    "collapsed": true
   },
   "outputs": [],
   "source": [
    "col, val = zip(*[(i+'_'+x, y) for i, items in price_dict.items() for x, y in items.items()])"
   ]
  },
  {
   "cell_type": "code",
   "execution_count": 18,
   "metadata": {
    "collapsed": true
   },
   "outputs": [],
   "source": [
    "import pandas as pd"
   ]
  },
  {
   "cell_type": "code",
   "execution_count": null,
   "metadata": {
    "collapsed": true
   },
   "outputs": [],
   "source": []
  }
 ],
 "metadata": {
  "kernelspec": {
   "display_name": "Python 3",
   "language": "python",
   "name": "python3"
  },
  "language_info": {
   "codemirror_mode": {
    "name": "ipython",
    "version": 3
   },
   "file_extension": ".py",
   "mimetype": "text/x-python",
   "name": "python",
   "nbconvert_exporter": "python",
   "pygments_lexer": "ipython3",
   "version": "3.6.1"
  }
 },
 "nbformat": 4,
 "nbformat_minor": 2
}
